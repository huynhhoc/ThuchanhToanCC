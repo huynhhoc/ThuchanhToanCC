{
  "nbformat": 4,
  "nbformat_minor": 0,
  "metadata": {
    "colab": {
      "name": "Chuong 3.ipynb",
      "provenance": [],
      "authorship_tag": "ABX9TyPbdRlPMo+m7sZM+/88g2wM",
      "include_colab_link": true
    },
    "kernelspec": {
      "name": "python3",
      "display_name": "Python 3"
    },
    "language_info": {
      "name": "python"
    }
  },
  "cells": [
    {
      "cell_type": "markdown",
      "metadata": {
        "id": "view-in-github",
        "colab_type": "text"
      },
      "source": [
        "<a href=\"https://colab.research.google.com/github/huynhhoc/ThuchanhToanCC/blob/main/Chuong_3.ipynb\" target=\"_parent\"><img src=\"https://colab.research.google.com/assets/colab-badge.svg\" alt=\"Open In Colab\"/></a>"
      ]
    },
    {
      "cell_type": "code",
      "execution_count": 7,
      "metadata": {
        "colab": {
          "base_uri": "https://localhost:8080/"
        },
        "id": "CD2iJbAx8deX",
        "outputId": "216177dc-171c-41e7-9b03-b7d894572496"
      },
      "outputs": [
        {
          "name": "stdout",
          "output_type": "stream",
          "text": [
            "nhap so nguyen: 56\n"
          ]
        }
      ],
      "source": [
        "n = int(input(\"nhap so nguyen: \"))"
      ]
    },
    {
      "cell_type": "code",
      "source": [
        "type(n)"
      ],
      "metadata": {
        "colab": {
          "base_uri": "https://localhost:8080/"
        },
        "id": "1G0HvxAa8nmg",
        "outputId": "e51ac0e2-d48b-483a-8c39-57bc3a9d6b22"
      },
      "execution_count": 8,
      "outputs": [
        {
          "output_type": "execute_result",
          "data": {
            "text/plain": [
              "int"
            ]
          },
          "metadata": {},
          "execution_count": 8
        }
      ]
    },
    {
      "cell_type": "code",
      "execution_count": 9,
      "metadata": {
        "colab": {
          "base_uri": "https://localhost:8080/",
          "height": 182
        },
        "outputId": "c03433a4-d44e-4d66-92e5-11e6885b22a4",
        "id": "9ZFVBCgI86Ix"
      },
      "outputs": [
        {
          "name": "stdout",
          "output_type": "stream",
          "text": [
            "nhap so nguyen: hello\n"
          ]
        },
        {
          "output_type": "error",
          "ename": "ValueError",
          "evalue": "ignored",
          "traceback": [
            "\u001b[0;31m---------------------------------------------------------------------------\u001b[0m",
            "\u001b[0;31mValueError\u001b[0m                                Traceback (most recent call last)",
            "\u001b[0;32m<ipython-input-9-36869fd086be>\u001b[0m in \u001b[0;36m<module>\u001b[0;34m()\u001b[0m\n\u001b[0;32m----> 1\u001b[0;31m \u001b[0mn\u001b[0m \u001b[0;34m=\u001b[0m \u001b[0mint\u001b[0m\u001b[0;34m(\u001b[0m\u001b[0minput\u001b[0m\u001b[0;34m(\u001b[0m\u001b[0;34m\"nhap so nguyen: \"\u001b[0m\u001b[0;34m)\u001b[0m\u001b[0;34m)\u001b[0m\u001b[0;34m\u001b[0m\u001b[0;34m\u001b[0m\u001b[0m\n\u001b[0m",
            "\u001b[0;31mValueError\u001b[0m: invalid literal for int() with base 10: 'hello'"
          ]
        }
      ],
      "source": [
        "n = int(input(\"nhap so nguyen: \"))"
      ]
    },
    {
      "cell_type": "code",
      "source": [
        "try:\n",
        "  n = int(input(\"nhap so nguyen: \"))\n",
        "except:\n",
        "  print (\"loi nhap lieu\")"
      ],
      "metadata": {
        "colab": {
          "base_uri": "https://localhost:8080/"
        },
        "outputId": "31c83a7b-ab17-490b-d444-8a5083079adc",
        "id": "11L5f5wY86I4"
      },
      "execution_count": 10,
      "outputs": [
        {
          "output_type": "stream",
          "name": "stdout",
          "text": [
            "nhap so nguyen: hello\n",
            "loi nhap lieu\n"
          ]
        }
      ]
    },
    {
      "cell_type": "code",
      "source": [
        "while True:\n",
        "  try:\n",
        "    n = int(input(\"nhap so nguyen: \"))\n",
        "    break\n",
        "  except:\n",
        "    print (\"loi nhap lieu, nhap lai\")"
      ],
      "metadata": {
        "colab": {
          "base_uri": "https://localhost:8080/"
        },
        "id": "Pg5-PNCv9lgF",
        "outputId": "65911072-ecb3-424a-f8ed-fd8b9afedd0d"
      },
      "execution_count": 11,
      "outputs": [
        {
          "name": "stdout",
          "output_type": "stream",
          "text": [
            "nhap so nguyen: 56\n"
          ]
        }
      ]
    },
    {
      "cell_type": "code",
      "source": [
        "while True:\n",
        "  try:\n",
        "    n = int(input(\"nhap so nguyen: \"))\n",
        "    #...\n",
        "    #...\n",
        "    break\n",
        "  except ValueError as vE:\n",
        "    print (\"loi nhap lieu, nhap lai\", vE)"
      ],
      "metadata": {
        "colab": {
          "base_uri": "https://localhost:8080/"
        },
        "id": "Gvo0PwFT9u4U",
        "outputId": "6d626bd2-068a-4103-b6de-550204be2042"
      },
      "execution_count": 15,
      "outputs": [
        {
          "name": "stdout",
          "output_type": "stream",
          "text": [
            "nhap so nguyen: gght\n",
            "loi nhap lieu, nhap lai invalid literal for int() with base 10: 'gght'\n",
            "nhap so nguyen: 56\n"
          ]
        }
      ]
    }
  ]
}