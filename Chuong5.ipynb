{
  "nbformat": 4,
  "nbformat_minor": 0,
  "metadata": {
    "colab": {
      "name": "Chuong5.ipynb",
      "provenance": [],
      "authorship_tag": "ABX9TyM28tpDWetqIWZuRaGVwwR6",
      "include_colab_link": true
    },
    "kernelspec": {
      "name": "python3",
      "display_name": "Python 3"
    },
    "language_info": {
      "name": "python"
    }
  },
  "cells": [
    {
      "cell_type": "markdown",
      "metadata": {
        "id": "view-in-github",
        "colab_type": "text"
      },
      "source": [
        "<a href=\"https://colab.research.google.com/github/huynhhoc/ThuchanhToanCC/blob/main/Chuong5.ipynb\" target=\"_parent\"><img src=\"https://colab.research.google.com/assets/colab-badge.svg\" alt=\"Open In Colab\"/></a>"
      ]
    },
    {
      "cell_type": "code",
      "execution_count": 2,
      "metadata": {
        "id": "ryf20scRDITe"
      },
      "outputs": [],
      "source": [
        "from sympy import Derivative, Symbol, sympify \n",
        "def grad_ascent(x0, ham_f1x, x): \n",
        " epsilon = 1e-6 \n",
        " step_size = 1e-4 \n",
        " x_old = x0 \n",
        " x_new = x_old + step_size*ham_f1x.subs({x:x_old}).evalf() \n",
        " while abs(x_old - x_new) > epsilon: \n",
        "  x_old = x_new \n",
        "  x_new = x_old + step_size*ham_f1x.subs({x:x_old}).evalf()\n",
        " return x_new"
      ]
    },
    {
      "cell_type": "code",
      "source": [
        "f = input('Nhap ham 1 bien (f): ') \n",
        "var = input('Nhap ten bien tuong ung (x): ') \n",
        "var0 = float(input('Nhap gia tri khoi dau cho bien x: ')) \n",
        "\n",
        "try: \n",
        "  f = sympify(f) # kiem tra ham \n",
        "except SympifyError: \n",
        "  print('Ham nhap khong hop le!') \n",
        "else: \n",
        "  var = Symbol(var) \n",
        "  d = Derivative(f, var).doit() \n",
        "  var_max = grad_ascent(var0, d, var) \n",
        "  print('{0}: {1}'.format(var.name, var_max)) \n",
        "  print('Maximum value: {0}'.format(f.subs({var:var_max}))) "
      ],
      "metadata": {
        "id": "GRxp5ATVDagb",
        "outputId": "4d6a2fad-e067-426b-f5ec-fcaeed44507b",
        "colab": {
          "base_uri": "https://localhost:8080/"
        }
      },
      "execution_count": 5,
      "outputs": [
        {
          "output_type": "stream",
          "name": "stdout",
          "text": [
            "Nhap ham 1 bien (f):  25*25*sin(2*theta)/9.8 \n",
            "Nhap ten bien tuong ung (x): theta\n",
            "Nhap gia tri khoi dau cho bien x: 0.001\n",
            "theta: 0.785360029379083\n",
            "Maximum value: 63.7755100185965\n"
          ]
        }
      ]
    }
  ]
}