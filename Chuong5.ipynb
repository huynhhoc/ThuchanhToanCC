{
  "nbformat": 4,
  "nbformat_minor": 0,
  "metadata": {
    "colab": {
      "name": "Chuong5.ipynb",
      "provenance": [],
      "authorship_tag": "ABX9TyMKyWKDE4AW56kj5w7xtDsc",
      "include_colab_link": true
    },
    "kernelspec": {
      "name": "python3",
      "display_name": "Python 3"
    },
    "language_info": {
      "name": "python"
    }
  },
  "cells": [
    {
      "cell_type": "markdown",
      "metadata": {
        "id": "view-in-github",
        "colab_type": "text"
      },
      "source": [
        "<a href=\"https://colab.research.google.com/github/huynhhoc/ThuchanhToanCC/blob/main/Chuong5.ipynb\" target=\"_parent\"><img src=\"https://colab.research.google.com/assets/colab-badge.svg\" alt=\"Open In Colab\"/></a>"
      ]
    },
    {
      "cell_type": "code",
      "source": [
        "def giaithua(n):\n",
        "  if n == 1:\n",
        "    return 1\n",
        "  else:\n",
        "    return giaithua(n-1)*n"
      ],
      "metadata": {
        "id": "1qkgcmG7lK-C"
      },
      "execution_count": 20,
      "outputs": []
    },
    {
      "cell_type": "code",
      "source": [
        "print(giaithua(5))"
      ],
      "metadata": {
        "id": "VFEsHWe-lT6f",
        "outputId": "c5247d78-0593-4519-ab7e-6dcd77ed16da",
        "colab": {
          "base_uri": "https://localhost:8080/"
        }
      },
      "execution_count": 21,
      "outputs": [
        {
          "output_type": "stream",
          "name": "stdout",
          "text": [
            "120\n"
          ]
        }
      ]
    },
    {
      "cell_type": "code",
      "source": [
        "def bai4(n):\n",
        "    if n==1:\n",
        "        return 4\n",
        "    else:\n",
        "        return 5.0/(6-bai4(n-1))"
      ],
      "metadata": {
        "id": "e-pMZAaVILgR"
      },
      "execution_count": 22,
      "outputs": []
    },
    {
      "cell_type": "code",
      "source": [
        "\n",
        "print(bai4(5))\n",
        "print(bai4(6))\n",
        "print(bai4(7))\n",
        "print(bai4(10))\n",
        "print(bai4(100))"
      ],
      "metadata": {
        "colab": {
          "base_uri": "https://localhost:8080/"
        },
        "id": "9XRRHVeeIN6y",
        "outputId": "20fc5d03-80db-47e9-c540-edf0beb707b9"
      },
      "execution_count": 23,
      "outputs": [
        {
          "output_type": "stream",
          "name": "stdout",
          "text": [
            "1.019108280254777\n",
            "1.0038363171355498\n",
            "1.000767852572306\n",
            "1.0000061439905628\n",
            "1.0\n"
          ]
        }
      ]
    },
    {
      "cell_type": "code",
      "source": [
        "print(bai4(500))\n",
        "print(bai4(550))\n",
        "print(bai4(600))"
      ],
      "metadata": {
        "id": "jRsExXjPpQ5y",
        "outputId": "0f2ae462-ff36-4795-e8f0-1a5a7c46f268",
        "colab": {
          "base_uri": "https://localhost:8080/"
        }
      },
      "execution_count": 24,
      "outputs": [
        {
          "output_type": "stream",
          "name": "stdout",
          "text": [
            "1.0\n",
            "1.0\n",
            "1.0\n"
          ]
        }
      ]
    },
    {
      "cell_type": "code",
      "source": [
        "def an_exp_an(n): \n",
        " if n == 1: \n",
        "  return 1.0/2 \n",
        " else: \n",
        "  return an_exp_an(n-1)**an_exp_an(n-1) "
      ],
      "metadata": {
        "id": "QcC9P-5ZrRdI"
      },
      "execution_count": 25,
      "outputs": []
    },
    {
      "cell_type": "code",
      "source": [
        "print (an_exp_an(1))\n",
        "print (an_exp_an(2))\n",
        "print (an_exp_an(5))\n",
        "print (an_exp_an(6))"
      ],
      "metadata": {
        "id": "vNZIoc7FrVKg",
        "outputId": "470d0d71-5190-4255-917f-8f6250764b76",
        "colab": {
          "base_uri": "https://localhost:8080/"
        }
      },
      "execution_count": 26,
      "outputs": [
        {
          "output_type": "stream",
          "name": "stdout",
          "text": [
            "0.5\n",
            "0.7071067811865476\n",
            "0.8535714578150946\n",
            "0.8735913556572519\n"
          ]
        }
      ]
    },
    {
      "cell_type": "code",
      "source": [
        "print (an_exp_an(10))"
      ],
      "metadata": {
        "id": "vMG5pAmZUca2",
        "outputId": "ef5889b8-b7ed-4ad0-86d3-839f4b755193",
        "colab": {
          "base_uri": "https://localhost:8080/"
        }
      },
      "execution_count": 27,
      "outputs": [
        {
          "output_type": "stream",
          "name": "stdout",
          "text": [
            "0.9176411981636667\n"
          ]
        }
      ]
    },
    {
      "cell_type": "code",
      "source": [
        "print (an_exp_an(20))"
      ],
      "metadata": {
        "id": "jChy6MvqWlcG",
        "outputId": "0d990106-24f7-4c2e-dbdd-5353abdd8d20",
        "colab": {
          "base_uri": "https://localhost:8080/"
        }
      },
      "execution_count": 28,
      "outputs": [
        {
          "output_type": "stream",
          "name": "stdout",
          "text": [
            "0.9554829674842079\n"
          ]
        }
      ]
    },
    {
      "cell_type": "code",
      "source": [
        "print(bai4(500))"
      ],
      "metadata": {
        "colab": {
          "base_uri": "https://localhost:8080/"
        },
        "id": "htyVRHfSIWbH",
        "outputId": "1189770a-7284-4a2a-8c0d-fc470eab141e"
      },
      "execution_count": 29,
      "outputs": [
        {
          "output_type": "stream",
          "name": "stdout",
          "text": [
            "1.0\n"
          ]
        }
      ]
    },
    {
      "cell_type": "code",
      "execution_count": 30,
      "metadata": {
        "id": "ryf20scRDITe"
      },
      "outputs": [],
      "source": [
        "from sympy import Derivative, Symbol, sympify \n",
        "def grad_ascent(x0, ham_f1x, x): \n",
        " epsilon = 1e-6 \n",
        " step_size = 1e-4 \n",
        " x_old = x0 \n",
        " x_new = x_old + step_size*ham_f1x.subs({x:x_old}).evalf() \n",
        " while abs(x_old - x_new) > epsilon: \n",
        "  x_old = x_new \n",
        "  x_new = x_old + step_size*ham_f1x.subs({x:x_old}).evalf()\n",
        " return x_new"
      ]
    },
    {
      "cell_type": "code",
      "source": [
        "f = input('Nhap ham 1 bien (f): ') \n",
        "var = input('Nhap ten bien tuong ung (x): ') \n",
        "var0 = float(input('Nhap gia tri khoi dau cho bien x: ')) \n",
        "\n",
        "try: \n",
        "  f = sympify(f) # kiem tra ham \n",
        "except SympifyError: \n",
        "  print('Ham nhap khong hop le!') \n",
        "else: \n",
        "  var = Symbol(var) \n",
        "  d = Derivative(f, var).doit() \n",
        "  var_max = grad_ascent(var0, d, var) \n",
        "  print('{0}: {1}'.format(var.name, var_max)) \n",
        "  print('Maximum value: {0}'.format(f.subs({var:var_max}))) "
      ],
      "metadata": {
        "colab": {
          "base_uri": "https://localhost:8080/"
        },
        "id": "GRxp5ATVDagb",
        "outputId": "22a17b66-e1ca-442b-f21b-671681f62fbc"
      },
      "execution_count": 31,
      "outputs": [
        {
          "output_type": "stream",
          "name": "stdout",
          "text": [
            "Nhap ham 1 bien (f): 25*25*sin(2*theta)/9.8\n",
            "Nhap ten bien tuong ung (x): theta \n",
            "Nhap gia tri khoi dau cho bien x: 0.001\n",
            "theta : 0.00100000000000000\n",
            "Maximum value: 63.7755102040816*sin(2*theta)\n"
          ]
        }
      ]
    },
    {
      "cell_type": "code",
      "source": [
        "import numpy as np\n",
        "from sympy import sin\n",
        "from matplotlib import pyplot as plt "
      ],
      "metadata": {
        "id": "gAyM9EGdErDa"
      },
      "execution_count": 32,
      "outputs": []
    },
    {
      "cell_type": "code",
      "source": [
        "allTheta = np.linspace(0, np.pi/2, 50)"
      ],
      "metadata": {
        "id": "Es9TdzJkEff5"
      },
      "execution_count": 35,
      "outputs": []
    },
    {
      "cell_type": "code",
      "source": [
        "y = []\n",
        "for gtheta in allTheta: \n",
        " y.append(25*25*sin(2*gtheta)/9.8)\n",
        "plt.plot(allTheta, y)\n",
        "plt.xlabel('theta')\n",
        "plt.ylabel('Ftheta')\n",
        "plt.title('Do thi ham so')"
      ],
      "metadata": {
        "colab": {
          "base_uri": "https://localhost:8080/",
          "height": 313
        },
        "id": "FVajP7PCExUC",
        "outputId": "f7415368-78c4-4b49-a1c2-275f0200dfbe"
      },
      "execution_count": 36,
      "outputs": [
        {
          "output_type": "execute_result",
          "data": {
            "text/plain": [
              "Text(0.5, 1.0, 'Do thi ham so')"
            ]
          },
          "metadata": {},
          "execution_count": 36
        },
        {
          "output_type": "display_data",
          "data": {
            "image/png": "[encoded data removed]",
            "text/plain": [
              "<Figure size 432x288 with 1 Axes>"
            ]
          },
          "metadata": {
            "needs_background": "light"
          }
        }
      ]
    }
  ]
}