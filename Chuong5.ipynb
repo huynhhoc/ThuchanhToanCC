{
  "nbformat": 4,
  "nbformat_minor": 0,
  "metadata": {
    "colab": {
      "name": "Chuong5.ipynb",
      "provenance": [],
      "authorship_tag": "ABX9TyPVg5w19U7FAHmj8bUQMzSS",
      "include_colab_link": true
    },
    "kernelspec": {
      "name": "python3",
      "display_name": "Python 3"
    },
    "language_info": {
      "name": "python"
    }
  },
  "cells": [
    {
      "cell_type": "markdown",
      "metadata": {
        "id": "view-in-github",
        "colab_type": "text"
      },
      "source": [
        "<a href=\"https://colab.research.google.com/github/huynhhoc/ThuchanhToanCC/blob/main/Chuong5.ipynb\" target=\"_parent\"><img src=\"https://colab.research.google.com/assets/colab-badge.svg\" alt=\"Open In Colab\"/></a>"
      ]
    },
    {
      "cell_type": "code",
      "execution_count": 2,
      "metadata": {
        "id": "ryf20scRDITe"
      },
      "outputs": [],
      "source": [
        "from sympy import Derivative, Symbol, sympify \n",
        "def grad_ascent(x0, ham_f1x, x): \n",
        " epsilon = 1e-6 \n",
        " step_size = 1e-4 \n",
        " x_old = x0 \n",
        " x_new = x_old + step_size*ham_f1x.subs({x:x_old}).evalf() \n",
        " while abs(x_old - x_new) > epsilon: \n",
        "  x_old = x_new \n",
        "  x_new = x_old + step_size*ham_f1x.subs({x:x_old}).evalf()\n",
        " return x_new"
      ]
    },
    {
      "cell_type": "code",
      "source": [
        "f = input('Nhap ham 1 bien (f): ') \n",
        "var = input('Nhap ten bien tuong ung (x): ') \n",
        "var0 = float(input('Nhap gia tri khoi dau cho bien x: ')) \n",
        "\n",
        "try: \n",
        "  f = sympify(f) # kiem tra ham \n",
        "except SympifyError: \n",
        "  print('Ham nhap khong hop le!') \n",
        "else: \n",
        "  var = Symbol(var) \n",
        "  d = Derivative(f, var).doit() \n",
        "  var_max = grad_ascent(var0, d, var) \n",
        "  print('{0}: {1}'.format(var.name, var_max)) \n",
        "  print('Maximum value: {0}'.format(f.subs({var:var_max}))) "
      ],
      "metadata": {
        "colab": {
          "base_uri": "https://localhost:8080/"
        },
        "id": "GRxp5ATVDagb",
        "outputId": "4d6a2fad-e067-426b-f5ec-fcaeed44507b"
      },
      "execution_count": 5,
      "outputs": [
        {
          "output_type": "stream",
          "name": "stdout",
          "text": [
            "Nhap ham 1 bien (f):  25*25*sin(2*theta)/9.8 \n",
            "Nhap ten bien tuong ung (x): theta\n",
            "Nhap gia tri khoi dau cho bien x: 0.001\n",
            "theta: 0.785360029379083\n",
            "Maximum value: 63.7755100185965\n"
          ]
        }
      ]
    },
    {
      "cell_type": "code",
      "source": [
        "import numpy as np\n",
        "from sympy import sin\n",
        "from matplotlib import pyplot as plt "
      ],
      "metadata": {
        "id": "gAyM9EGdErDa"
      },
      "execution_count": 11,
      "outputs": []
    },
    {
      "cell_type": "code",
      "source": [
        "allTheta = np.linspace(0, np.pi/2, 10)"
      ],
      "metadata": {
        "id": "Es9TdzJkEff5"
      },
      "execution_count": 14,
      "outputs": []
    },
    {
      "cell_type": "code",
      "source": [
        "y = []\n",
        "for gtheta in allTheta: \n",
        " y.append(25*25*sin(2*gtheta)/9.8)\n",
        "plt.plot(allTheta, y)\n",
        "plt.xlabel('theta')\n",
        "plt.ylabel('Ftheta')\n",
        "plt.title('Do thi ham so')"
      ],
      "metadata": {
        "colab": {
          "base_uri": "https://localhost:8080/",
          "height": 313
        },
        "id": "FVajP7PCExUC",
        "outputId": "c927212a-41e8-4fa2-9c6d-ee656a97621f"
      },
      "execution_count": 21,
      "outputs": [
        {
          "output_type": "execute_result",
          "data": {
            "text/plain": [
              "Text(0.5, 1.0, 'Do thi ham so')"
            ]
          },
          "metadata": {},
          "execution_count": 21
        },
        {
          "output_type": "display_data",
          "data": {
            "image/png": "[encoded data removed]",
            "text/plain": [
              "<Figure size 432x288 with 1 Axes>"
            ]
          },
          "metadata": {
            "needs_background": "light"
          }
        }
      ]
    }
  ]
}