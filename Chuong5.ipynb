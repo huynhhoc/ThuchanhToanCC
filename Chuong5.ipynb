{
  "nbformat": 4,
  "nbformat_minor": 0,
  "metadata": {
    "colab": {
      "name": "Chuong5.ipynb",
      "provenance": [],
      "authorship_tag": "ABX9TyNLIoLKevgR9LiYGB27sEDD",
      "include_colab_link": true
    },
    "kernelspec": {
      "name": "python3",
      "display_name": "Python 3"
    },
    "language_info": {
      "name": "python"
    }
  },
  "cells": [
    {
      "cell_type": "markdown",
      "metadata": {
        "id": "view-in-github",
        "colab_type": "text"
      },
      "source": [
        "<a href=\"https://colab.research.google.com/github/huynhhoc/ThuchanhToanCC/blob/main/Chuong5.ipynb\" target=\"_parent\"><img src=\"https://colab.research.google.com/assets/colab-badge.svg\" alt=\"Open In Colab\"/></a>"
      ]
    },
    {
      "cell_type": "code",
      "execution_count": 27,
      "metadata": {
        "id": "Qf0Vp2qVwh4C"
      },
      "outputs": [],
      "source": [
        "from sympy import sqrt, simplify, count_ops, oo"
      ]
    },
    {
      "cell_type": "code",
      "source": [
        "import sys\n",
        "sys.setrecursionlimit(30000)"
      ],
      "metadata": {
        "id": "iWGVCZSEz7vK"
      },
      "execution_count": 28,
      "outputs": []
    },
    {
      "cell_type": "markdown",
      "source": [
        "#Phép lặp để tìm nghiệm"
      ],
      "metadata": {
        "id": "CosMt6ah11GQ"
      }
    },
    {
      "cell_type": "code",
      "source": [
        "x = 1.5\n",
        "lap = 1\n",
        "while x != sqrt(x +1):\n",
        "  x = sqrt(x + 1)\n",
        "  lap = lap +1"
      ],
      "metadata": {
        "id": "Pk_QajHQwtex"
      },
      "execution_count": 34,
      "outputs": []
    },
    {
      "cell_type": "code",
      "source": [
        "x"
      ],
      "metadata": {
        "colab": {
          "base_uri": "https://localhost:8080/",
          "height": 38
        },
        "id": "NOskoCMj1gPq",
        "outputId": "332dd723-6d40-4178-f1b1-c21dc8c5a1ae"
      },
      "execution_count": 35,
      "outputs": [
        {
          "output_type": "execute_result",
          "data": {
            "text/latex": "$\\displaystyle 1.61803398874989$",
            "text/plain": [
              "1.61803398874989"
            ]
          },
          "metadata": {},
          "execution_count": 35
        }
      ]
    },
    {
      "cell_type": "markdown",
      "source": [
        "#Sử dụng hàm solve trong sympy"
      ],
      "metadata": {
        "id": "426ib7ax16qF"
      }
    },
    {
      "cell_type": "code",
      "source": [
        "import sympy as sp \n",
        "from sympy import Symbol \n",
        "x = Symbol('x') \n",
        "sp.solve(x-sp.sqrt(1+x),x)"
      ],
      "metadata": {
        "colab": {
          "base_uri": "https://localhost:8080/"
        },
        "id": "BrM2OX3a03GZ",
        "outputId": "7a201e23-9573-4f81-e6b1-383f29d2300d"
      },
      "execution_count": 31,
      "outputs": [
        {
          "output_type": "execute_result",
          "data": {
            "text/plain": [
              "[1/2 + sqrt(5)/2]"
            ]
          },
          "metadata": {},
          "execution_count": 31
        }
      ]
    }
  ]
}