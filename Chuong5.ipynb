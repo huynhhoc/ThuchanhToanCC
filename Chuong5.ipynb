{
  "nbformat": 4,
  "nbformat_minor": 0,
  "metadata": {
    "colab": {
      "name": "Chuong5.ipynb",
      "provenance": [],
      "authorship_tag": "ABX9TyMGjUvVdjc+YLcBL7f1jszQ",
      "include_colab_link": true
    },
    "kernelspec": {
      "name": "python3",
      "display_name": "Python 3"
    },
    "language_info": {
      "name": "python"
    }
  },
  "cells": [
    {
      "cell_type": "markdown",
      "metadata": {
        "id": "view-in-github",
        "colab_type": "text"
      },
      "source": [
        "<a href=\"https://colab.research.google.com/github/huynhhoc/ThuchanhToanCC/blob/main/Chuong5.ipynb\" target=\"_parent\"><img src=\"https://colab.research.google.com/assets/colab-badge.svg\" alt=\"Open In Colab\"/></a>"
      ]
    },
    {
      "cell_type": "code",
      "execution_count": null,
      "metadata": {
        "id": "ryf20scRDITe"
      },
      "outputs": [],
      "source": [
        "from sympy import Derivative, Symbol, sympify \n",
        "def grad_ascent(x0, ham_f1x, x): \n",
        " epsilon = 1e-6 \n",
        " step_size = 1e-4 \n",
        " x_old = x0 \n",
        " x_new = x_old + step_size*ham_f1x.subs({x:x_old}).evalf() \n",
        " while abs(x_old - x_new) > epsilon: \n",
        " x_old = x_new \n",
        " x_new = x_old + step_size*ham_f1x.subs({x:x_old}).evalf()"
      ]
    }
  ]
}