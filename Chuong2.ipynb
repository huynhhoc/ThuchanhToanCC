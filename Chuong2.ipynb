{
  "nbformat": 4,
  "nbformat_minor": 0,
  "metadata": {
    "colab": {
      "name": "Chuong2.ipynb",
      "provenance": [],
      "authorship_tag": "ABX9TyOabODqWYI6PQssSpKb8qPV",
      "include_colab_link": true
    },
    "kernelspec": {
      "name": "python3",
      "display_name": "Python 3"
    },
    "language_info": {
      "name": "python"
    }
  },
  "cells": [
    {
      "cell_type": "markdown",
      "metadata": {
        "id": "view-in-github",
        "colab_type": "text"
      },
      "source": [
        "<a href=\"https://colab.research.google.com/github/huynhhoc/ThuchanhToanCC/blob/main/Chuong2.ipynb\" target=\"_parent\"><img src=\"https://colab.research.google.com/assets/colab-badge.svg\" alt=\"Open In Colab\"/></a>"
      ]
    },
    {
      "cell_type": "markdown",
      "source": [
        "#eval"
      ],
      "metadata": {
        "id": "XpCNIEVfeYXk"
      }
    },
    {
      "cell_type": "code",
      "execution_count": null,
      "metadata": {
        "id": "yxjwRszndx9Z"
      },
      "outputs": [],
      "source": [
        "chuoitinh=\"a*b + c\""
      ]
    },
    {
      "cell_type": "code",
      "source": [
        "a = 4\n",
        "b = 2\n",
        "c = 6"
      ],
      "metadata": {
        "id": "bk7I7m6PeCYb"
      },
      "execution_count": null,
      "outputs": []
    },
    {
      "cell_type": "code",
      "source": [
        "eval(chuoitinh)"
      ],
      "metadata": {
        "id": "FuBO-pQieF99",
        "outputId": "7dc3abe8-2889-4f42-eab9-2d3253f1e11b",
        "colab": {
          "base_uri": "https://localhost:8080/"
        }
      },
      "execution_count": null,
      "outputs": [
        {
          "output_type": "execute_result",
          "data": {
            "text/plain": [
              "14"
            ]
          },
          "metadata": {},
          "execution_count": 3
        }
      ]
    },
    {
      "cell_type": "markdown",
      "source": [
        "# subs trong sympy"
      ],
      "metadata": {
        "id": "UfdKsUe5eQpg"
      }
    },
    {
      "cell_type": "code",
      "source": [
        "from sympy import Symbol\n",
        "x = Symbol('x')\n",
        "y = Symbol('y')"
      ],
      "metadata": {
        "id": "XjbWOXeDeU63"
      },
      "execution_count": null,
      "outputs": []
    },
    {
      "cell_type": "code",
      "source": [
        "bieuthuc = x + y"
      ],
      "metadata": {
        "id": "RaV55U-cem0U"
      },
      "execution_count": null,
      "outputs": []
    },
    {
      "cell_type": "code",
      "source": [
        "bieuthuc.subs({x:2, y:3})"
      ],
      "metadata": {
        "id": "UQHg_reRe6RF",
        "outputId": "a3574405-aee7-48dd-e4ec-5fa39daa77c5",
        "colab": {
          "base_uri": "https://localhost:8080/",
          "height": 38
        }
      },
      "execution_count": null,
      "outputs": [
        {
          "output_type": "execute_result",
          "data": {
            "text/latex": "$\\displaystyle 5$",
            "text/plain": [
              "5"
            ]
          },
          "metadata": {},
          "execution_count": 10
        }
      ]
    },
    {
      "cell_type": "code",
      "source": [
        "u = Symbol('u')\n",
        "v = Symbol('v')"
      ],
      "metadata": {
        "id": "BaWveB1vfL0o"
      },
      "execution_count": null,
      "outputs": []
    },
    {
      "cell_type": "code",
      "source": [
        "bieuthuc.subs({x:u, y:v})"
      ],
      "metadata": {
        "id": "UYpSPmhwfAI9",
        "outputId": "02c1b284-0e42-4ab3-e128-a4ef0e821db1",
        "colab": {
          "base_uri": "https://localhost:8080/",
          "height": 39
        }
      },
      "execution_count": null,
      "outputs": [
        {
          "output_type": "execute_result",
          "data": {
            "text/latex": "$\\displaystyle u + v$",
            "text/plain": [
              "u + v"
            ]
          },
          "metadata": {},
          "execution_count": 13
        }
      ]
    },
    {
      "cell_type": "code",
      "source": [
        "thaythe = bieuthuc.subs({x:2*u*u, y:u})"
      ],
      "metadata": {
        "id": "6c7QXx4bfYLa"
      },
      "execution_count": null,
      "outputs": []
    },
    {
      "cell_type": "code",
      "source": [
        "thaythe"
      ],
      "metadata": {
        "id": "Xw9v4lUifhY1",
        "outputId": "ca197378-38fa-4a92-969b-5d699cc64184",
        "colab": {
          "base_uri": "https://localhost:8080/",
          "height": 39
        }
      },
      "execution_count": null,
      "outputs": [
        {
          "output_type": "execute_result",
          "data": {
            "text/latex": "$\\displaystyle 2 u^{2} + u$",
            "text/plain": [
              "2*u**2 + u"
            ]
          },
          "metadata": {},
          "execution_count": 19
        }
      ]
    },
    {
      "cell_type": "code",
      "source": [
        "thaythe.factor()"
      ],
      "metadata": {
        "id": "6fT6QdyMfiHs",
        "outputId": "ee9576d5-8c69-4ab1-c215-439d5e55c9eb",
        "colab": {
          "base_uri": "https://localhost:8080/",
          "height": 39
        }
      },
      "execution_count": null,
      "outputs": [
        {
          "output_type": "execute_result",
          "data": {
            "text/latex": "$\\displaystyle u \\left(2 u + 1\\right)$",
            "text/plain": [
              "u*(2*u + 1)"
            ]
          },
          "metadata": {},
          "execution_count": 20
        }
      ]
    },
    {
      "cell_type": "code",
      "source": [
        "thaythe.simplify()"
      ],
      "metadata": {
        "id": "dCeWSavDf4PE",
        "outputId": "203be934-bcc0-4da1-90cc-88acd7e2ee2a",
        "colab": {
          "base_uri": "https://localhost:8080/",
          "height": 39
        }
      },
      "execution_count": null,
      "outputs": [
        {
          "output_type": "execute_result",
          "data": {
            "text/latex": "$\\displaystyle u \\left(2 u + 1\\right)$",
            "text/plain": [
              "u*(2*u + 1)"
            ]
          },
          "metadata": {},
          "execution_count": 21
        }
      ]
    },
    {
      "cell_type": "code",
      "source": [
        "from sympy import sin, cos, Symbol\n",
        "a = Symbol('a')\n",
        "bieuthucsin = bieuthuc.subs({x:a*sin(u), y:a*cos(u)})"
      ],
      "metadata": {
        "id": "fSu4U9e2f-DD"
      },
      "execution_count": null,
      "outputs": []
    },
    {
      "cell_type": "code",
      "source": [
        "bieuthucsin.factor()"
      ],
      "metadata": {
        "id": "8k5ttCgkgNTt",
        "outputId": "450eecfc-9030-4fcb-b1d3-3175ef63eb63",
        "colab": {
          "base_uri": "https://localhost:8080/",
          "height": 39
        }
      },
      "execution_count": null,
      "outputs": [
        {
          "output_type": "execute_result",
          "data": {
            "text/latex": "$\\displaystyle a \\left(\\sin{\\left(u \\right)} + \\cos{\\left(u \\right)}\\right)$",
            "text/plain": [
              "a*(sin(u) + cos(u))"
            ]
          },
          "metadata": {},
          "execution_count": 28
        }
      ]
    },
    {
      "cell_type": "code",
      "source": [
        "bieuthucsin.simplify()"
      ],
      "metadata": {
        "id": "EgbRRKDXghWX",
        "outputId": "f4b13682-8827-4671-e6de-463169f1ed17",
        "colab": {
          "base_uri": "https://localhost:8080/",
          "height": 48
        }
      },
      "execution_count": null,
      "outputs": [
        {
          "output_type": "execute_result",
          "data": {
            "text/latex": "$\\displaystyle \\sqrt{2} a \\sin{\\left(u + \\frac{\\pi}{4} \\right)}$",
            "text/plain": [
              "sqrt(2)*a*sin(u + pi/4)"
            ]
          },
          "metadata": {},
          "execution_count": 29
        }
      ]
    },
    {
      "cell_type": "markdown",
      "source": [
        "#matplotlib"
      ],
      "metadata": {
        "id": "RdS8aZeYhVnt"
      }
    },
    {
      "cell_type": "code",
      "source": [
        "x_numbers = [1,6,8]\n",
        "y_numbers = [2,5,9]"
      ],
      "metadata": {
        "id": "hoS77KQLhW3Y"
      },
      "execution_count": null,
      "outputs": []
    },
    {
      "cell_type": "code",
      "source": [
        "from pylab import plot, show"
      ],
      "metadata": {
        "id": "7BpobrNAhrV4"
      },
      "execution_count": null,
      "outputs": []
    },
    {
      "cell_type": "code",
      "source": [
        "plot(x_numbers, y_numbers)"
      ],
      "metadata": {
        "id": "h9v9qVbeh066",
        "outputId": "dcad35c4-465e-477f-a9d6-69ab4105cc11",
        "colab": {
          "base_uri": "https://localhost:8080/",
          "height": 282
        }
      },
      "execution_count": null,
      "outputs": [
        {
          "output_type": "execute_result",
          "data": {
            "text/plain": [
              "[<matplotlib.lines.Line2D at 0x7f9a81ee3f10>]"
            ]
          },
          "metadata": {},
          "execution_count": 37
        },
        {
          "output_type": "display_data",
          "data": {
            "image/png": "[encoded data removed]",
            "text/plain": [
              "<Figure size 432x288 with 1 Axes>"
            ]
          },
          "metadata": {
            "needs_background": "light"
          }
        }
      ]
    },
    {
      "cell_type": "code",
      "source": [
        "plot(x_numbers, y_numbers, marker='o')"
      ],
      "metadata": {
        "id": "gCgLVhGXh2LX",
        "outputId": "5fe55cc4-ae47-480b-dd4d-8cc687093ce7",
        "colab": {
          "base_uri": "https://localhost:8080/",
          "height": 282
        }
      },
      "execution_count": null,
      "outputs": [
        {
          "output_type": "execute_result",
          "data": {
            "text/plain": [
              "[<matplotlib.lines.Line2D at 0x7f9a81e32750>]"
            ]
          },
          "metadata": {},
          "execution_count": 38
        },
        {
          "output_type": "display_data",
          "data": {
            "image/png": "[encoded data removed]",
            "text/plain": [
              "<Figure size 432x288 with 1 Axes>"
            ]
          },
          "metadata": {
            "needs_background": "light"
          }
        }
      ]
    },
    {
      "cell_type": "code",
      "source": [
        "plot(x_numbers, y_numbers, marker='*')"
      ],
      "metadata": {
        "id": "JKcPZHG2h_aM",
        "outputId": "771d9ff2-ef7e-426b-fc72-d9a8672af439",
        "colab": {
          "base_uri": "https://localhost:8080/",
          "height": 282
        }
      },
      "execution_count": null,
      "outputs": [
        {
          "output_type": "execute_result",
          "data": {
            "text/plain": [
              "[<matplotlib.lines.Line2D at 0x7f9a81b7ef50>]"
            ]
          },
          "metadata": {},
          "execution_count": 41
        },
        {
          "output_type": "display_data",
          "data": {
            "image/png": "[encoded data removed]",
            "text/plain": [
              "<Figure size 432x288 with 1 Axes>"
            ]
          },
          "metadata": {
            "needs_background": "light"
          }
        }
      ]
    },
    {
      "cell_type": "code",
      "source": [
        "hcm_rain = [13.8, 4.1, 10.5, 50.4, 218.4, 311.7, 293.7, 269.8, 327.1, 266.7, 116.5, 48.3]\n",
        "months = range(1,13)"
      ],
      "metadata": {
        "id": "4sMTwbHZiJUF"
      },
      "execution_count": null,
      "outputs": []
    },
    {
      "cell_type": "code",
      "source": [
        "plot(months, hcm_rain, marker = \"o\")"
      ],
      "metadata": {
        "id": "DaIbz8kZiOr6",
        "outputId": "8e0ec281-3e7f-4c10-cb5f-4d86a9e50107",
        "colab": {
          "base_uri": "https://localhost:8080/",
          "height": 282
        }
      },
      "execution_count": null,
      "outputs": [
        {
          "output_type": "execute_result",
          "data": {
            "text/plain": [
              "[<matplotlib.lines.Line2D at 0x7f9a819ef390>]"
            ]
          },
          "metadata": {},
          "execution_count": 45
        },
        {
          "output_type": "display_data",
          "data": {
            "image/png": "[encoded data removed]",
            "text/plain": [
              "<Figure size 432x288 with 1 Axes>"
            ]
          },
          "metadata": {
            "needs_background": "light"
          }
        }
      ]
    },
    {
      "cell_type": "markdown",
      "source": [
        "#Tinh dao ham: Derivative"
      ],
      "metadata": {
        "id": "FxtnW_KzieI6"
      }
    },
    {
      "cell_type": "code",
      "source": [
        "from sympy import Symbol, Derivative"
      ],
      "metadata": {
        "id": "CftO_uJpihnS"
      },
      "execution_count": null,
      "outputs": []
    },
    {
      "cell_type": "code",
      "source": [
        "t = Symbol('t')\n",
        "st = 5*t**2 + 2*t + 8"
      ],
      "metadata": {
        "id": "NaF1P8o0ik_B"
      },
      "execution_count": null,
      "outputs": []
    },
    {
      "cell_type": "code",
      "source": [
        "st"
      ],
      "metadata": {
        "id": "Xac13esEiout",
        "outputId": "d88a51d1-fc48-4389-a5f4-29b9eecb3642",
        "colab": {
          "base_uri": "https://localhost:8080/",
          "height": 39
        }
      },
      "execution_count": null,
      "outputs": [
        {
          "output_type": "execute_result",
          "data": {
            "text/latex": "$\\displaystyle 5 t^{2} + 2 t + 8$",
            "text/plain": [
              "5*t**2 + 2*t + 8"
            ]
          },
          "metadata": {},
          "execution_count": 49
        }
      ]
    },
    {
      "cell_type": "code",
      "source": [
        "daohamST = Derivative(st, t)"
      ],
      "metadata": {
        "id": "zK37e2fuipvU"
      },
      "execution_count": null,
      "outputs": []
    },
    {
      "cell_type": "code",
      "source": [
        "daohamST"
      ],
      "metadata": {
        "id": "vVc3hqNeiuTQ",
        "outputId": "9ab5f8c9-078b-4662-b9a7-7ea29e861e5a",
        "colab": {
          "base_uri": "https://localhost:8080/",
          "height": 52
        }
      },
      "execution_count": null,
      "outputs": [
        {
          "output_type": "execute_result",
          "data": {
            "text/latex": "$\\displaystyle \\frac{d}{d t} \\left(5 t^{2} + 2 t + 8\\right)$",
            "text/plain": [
              "Derivative(5*t**2 + 2*t + 8, t)"
            ]
          },
          "metadata": {},
          "execution_count": 51
        }
      ]
    },
    {
      "cell_type": "code",
      "source": [
        "st1 = daohamST.doit()"
      ],
      "metadata": {
        "id": "DXRDAD0Ui_6i"
      },
      "execution_count": 53,
      "outputs": []
    },
    {
      "cell_type": "code",
      "source": [
        "st1"
      ],
      "metadata": {
        "colab": {
          "base_uri": "https://localhost:8080/",
          "height": 39
        },
        "id": "_VTJ9OtWjKOk",
        "outputId": "6801cdc7-8b5c-4c47-f222-2f71995feeca"
      },
      "execution_count": 54,
      "outputs": [
        {
          "output_type": "execute_result",
          "data": {
            "text/latex": "$\\displaystyle 10 t + 2$",
            "text/plain": [
              "10*t + 2"
            ]
          },
          "metadata": {},
          "execution_count": 54
        }
      ]
    },
    {
      "cell_type": "code",
      "source": [
        "st1.subs({t:3})"
      ],
      "metadata": {
        "colab": {
          "base_uri": "https://localhost:8080/",
          "height": 38
        },
        "id": "vsy9kp6rjFgR",
        "outputId": "8b5e5f94-2881-4959-a362-570c56ba8720"
      },
      "execution_count": 55,
      "outputs": [
        {
          "output_type": "execute_result",
          "data": {
            "text/latex": "$\\displaystyle 32$",
            "text/plain": [
              "32"
            ]
          },
          "metadata": {},
          "execution_count": 55
        }
      ]
    },
    {
      "cell_type": "markdown",
      "source": [
        "#Dao ham ham hop"
      ],
      "metadata": {
        "id": "q2qAlmaHjV1h"
      }
    },
    {
      "cell_type": "code",
      "source": [
        "from sympy import Derivative, Symbol"
      ],
      "metadata": {
        "id": "4R6peduMjXWu"
      },
      "execution_count": 56,
      "outputs": []
    },
    {
      "cell_type": "code",
      "source": [
        "x = Symbol('x')"
      ],
      "metadata": {
        "id": "AF1I-qBJjaLR"
      },
      "execution_count": 57,
      "outputs": []
    },
    {
      "cell_type": "code",
      "source": [
        " f = (x**3+x**2+x)*(x**2+x)"
      ],
      "metadata": {
        "id": "RNY5ORoijdeV"
      },
      "execution_count": 58,
      "outputs": []
    },
    {
      "cell_type": "code",
      "source": [
        "f"
      ],
      "metadata": {
        "colab": {
          "base_uri": "https://localhost:8080/",
          "height": 39
        },
        "id": "SU4tEvYBjeld",
        "outputId": "31116bd5-240d-4174-9b43-2e6b48d343d9"
      },
      "execution_count": 59,
      "outputs": [
        {
          "output_type": "execute_result",
          "data": {
            "text/latex": "$\\displaystyle \\left(x^{2} + x\\right) \\left(x^{3} + x^{2} + x\\right)$",
            "text/plain": [
              "(x**2 + x)*(x**3 + x**2 + x)"
            ]
          },
          "metadata": {},
          "execution_count": 59
        }
      ]
    },
    {
      "cell_type": "code",
      "source": [
        "Derivative(f, x).doit()"
      ],
      "metadata": {
        "colab": {
          "base_uri": "https://localhost:8080/",
          "height": 39
        },
        "id": "VbBdWdm_jfat",
        "outputId": "0f2d139e-a4c6-4319-9d68-3d5bdb60a4a5"
      },
      "execution_count": 60,
      "outputs": [
        {
          "output_type": "execute_result",
          "data": {
            "text/latex": "$\\displaystyle \\left(2 x + 1\\right) \\left(x^{3} + x^{2} + x\\right) + \\left(x^{2} + x\\right) \\left(3 x^{2} + 2 x + 1\\right)$",
            "text/plain": [
              "(2*x + 1)*(x**3 + x**2 + x) + (x**2 + x)*(3*x**2 + 2*x + 1)"
            ]
          },
          "metadata": {},
          "execution_count": 60
        }
      ]
    },
    {
      "cell_type": "markdown",
      "source": [
        "#Ung dung tim cuc dai va cuc tieu"
      ],
      "metadata": {
        "id": "JXvg47ovkDWK"
      }
    },
    {
      "cell_type": "code",
      "source": [
        "from sympy import Symbol, solve, Derivative"
      ],
      "metadata": {
        "id": "YcYWdhqRkGX8"
      },
      "execution_count": 61,
      "outputs": []
    },
    {
      "cell_type": "code",
      "source": [
        "x = Symbol('x') \n",
        "f = x**5-30*x**3+50*x "
      ],
      "metadata": {
        "id": "L-MCNjXYkHdb"
      },
      "execution_count": 63,
      "outputs": []
    },
    {
      "cell_type": "code",
      "source": [
        "f"
      ],
      "metadata": {
        "colab": {
          "base_uri": "https://localhost:8080/",
          "height": 39
        },
        "id": "CfSBnef7kOSi",
        "outputId": "bc3bdc52-fa02-4f3f-9173-5664229875f3"
      },
      "execution_count": 64,
      "outputs": [
        {
          "output_type": "execute_result",
          "data": {
            "text/latex": "$\\displaystyle x^{5} - 30 x^{3} + 50 x$",
            "text/plain": [
              "x**5 - 30*x**3 + 50*x"
            ]
          },
          "metadata": {},
          "execution_count": 64
        }
      ]
    },
    {
      "cell_type": "code",
      "source": [
        "d1 = Derivative(f, x).doit()"
      ],
      "metadata": {
        "id": "aiatqJVCkRIC"
      },
      "execution_count": 65,
      "outputs": []
    },
    {
      "cell_type": "code",
      "source": [
        "d1"
      ],
      "metadata": {
        "colab": {
          "base_uri": "https://localhost:8080/",
          "height": 39
        },
        "id": "FUB15pI0kSRP",
        "outputId": "4318fa48-59f1-4bf8-e3b7-5f44dcf8fd9e"
      },
      "execution_count": 66,
      "outputs": [
        {
          "output_type": "execute_result",
          "data": {
            "text/latex": "$\\displaystyle 5 x^{4} - 90 x^{2} + 50$",
            "text/plain": [
              "5*x**4 - 90*x**2 + 50"
            ]
          },
          "metadata": {},
          "execution_count": 66
        }
      ]
    },
    {
      "cell_type": "code",
      "source": [
        "cuctri = solve(d1)"
      ],
      "metadata": {
        "id": "6qik_Zs-kWfR"
      },
      "execution_count": 67,
      "outputs": []
    },
    {
      "cell_type": "code",
      "source": [
        "cuctri"
      ],
      "metadata": {
        "colab": {
          "base_uri": "https://localhost:8080/"
        },
        "id": "ymIiHa65kZZW",
        "outputId": "75fe9230-cd50-4887-e508-ff5e4840d970"
      },
      "execution_count": 68,
      "outputs": [
        {
          "output_type": "execute_result",
          "data": {
            "text/plain": [
              "[-sqrt(9 - sqrt(71)),\n",
              " sqrt(9 - sqrt(71)),\n",
              " -sqrt(sqrt(71) + 9),\n",
              " sqrt(sqrt(71) + 9)]"
            ]
          },
          "metadata": {},
          "execution_count": 68
        }
      ]
    },
    {
      "cell_type": "code",
      "source": [
        "B = cuctri[0]\n",
        "C = cuctri[1]\n",
        "A = cuctri[2]\n",
        "D = cuctri[3]"
      ],
      "metadata": {
        "id": "v2CzAju0kc7q"
      },
      "execution_count": 75,
      "outputs": []
    },
    {
      "cell_type": "markdown",
      "source": [
        "# Dao ham cap 2"
      ],
      "metadata": {
        "id": "jfW9L5MplUoe"
      }
    },
    {
      "cell_type": "code",
      "source": [
        "d2 = Derivative(d1, x, 2).doit()"
      ],
      "metadata": {
        "id": "p0iwwD63lRnj"
      },
      "execution_count": 74,
      "outputs": []
    },
    {
      "cell_type": "code",
      "source": [
        "d2"
      ],
      "metadata": {
        "colab": {
          "base_uri": "https://localhost:8080/",
          "height": 39
        },
        "id": "vq1rHaeelnG0",
        "outputId": "79793ab1-0963-4232-816d-96dde6d6a07f"
      },
      "execution_count": 76,
      "outputs": [
        {
          "output_type": "execute_result",
          "data": {
            "text/latex": "$\\displaystyle 60 \\left(x^{2} - 3\\right)$",
            "text/plain": [
              "60*(x**2 - 3)"
            ]
          },
          "metadata": {},
          "execution_count": 76
        }
      ]
    },
    {
      "cell_type": "code",
      "source": [
        " d2.subs({x:B}).evalf()"
      ],
      "metadata": {
        "colab": {
          "base_uri": "https://localhost:8080/",
          "height": 38
        },
        "id": "Z86lZ0H8lohI",
        "outputId": "b685b13f-cc9a-4966-cfa0-18338902cf15"
      },
      "execution_count": 77,
      "outputs": [
        {
          "output_type": "execute_result",
          "data": {
            "text/latex": "$\\displaystyle -145.568986390582$",
            "text/plain": [
              "-145.568986390582"
            ]
          },
          "metadata": {},
          "execution_count": 77
        }
      ]
    },
    {
      "cell_type": "markdown",
      "source": [
        "#Ve do thi ham so"
      ],
      "metadata": {
        "id": "v5iVY_JUq7ab"
      }
    },
    {
      "cell_type": "code",
      "source": [
        " import sympy"
      ],
      "metadata": {
        "id": "4tRhclVsq9XF"
      },
      "execution_count": 78,
      "outputs": []
    },
    {
      "cell_type": "code",
      "source": [
        "f"
      ],
      "metadata": {
        "id": "ljMu4_N4rD6G",
        "outputId": "4d69e6f3-e9bd-4ae4-ee97-d0de8a927e44",
        "colab": {
          "base_uri": "https://localhost:8080/",
          "height": 39
        }
      },
      "execution_count": 79,
      "outputs": [
        {
          "output_type": "execute_result",
          "data": {
            "text/latex": "$\\displaystyle x^{5} - 30 x^{3} + 50 x$",
            "text/plain": [
              "x**5 - 30*x**3 + 50*x"
            ]
          },
          "metadata": {},
          "execution_count": 79
        }
      ]
    },
    {
      "cell_type": "code",
      "source": [
        " sympy.plot(f, (x, -5, 5))"
      ],
      "metadata": {
        "id": "LgrTdRaPrBP-",
        "outputId": "f3516e82-b780-45dc-b6b5-6c5415d478b7",
        "colab": {
          "base_uri": "https://localhost:8080/",
          "height": 314
        }
      },
      "execution_count": 80,
      "outputs": [
        {
          "output_type": "display_data",
          "data": {
            "image/png": "[encoded data removed]",
            "text/plain": [
              "<Figure size 432x288 with 1 Axes>"
            ]
          },
          "metadata": {
            "needs_background": "light"
          }
        },
        {
          "output_type": "execute_result",
          "data": {
            "text/plain": [
              "<sympy.plotting.plot.Plot at 0x7f9a819c1190>"
            ]
          },
          "metadata": {},
          "execution_count": 80
        }
      ]
    }
  ]
}