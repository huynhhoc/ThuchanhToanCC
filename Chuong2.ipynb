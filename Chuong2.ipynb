{
  "nbformat": 4,
  "nbformat_minor": 0,
  "metadata": {
    "colab": {
      "name": "Chuong2.ipynb",
      "provenance": [],
      "authorship_tag": "ABX9TyPWOxEHvBV9r7y6UDvTLimd",
      "include_colab_link": true
    },
    "kernelspec": {
      "name": "python3",
      "display_name": "Python 3"
    },
    "language_info": {
      "name": "python"
    }
  },
  "cells": [
    {
      "cell_type": "markdown",
      "metadata": {
        "id": "view-in-github",
        "colab_type": "text"
      },
      "source": [
        "<a href=\"https://colab.research.google.com/github/huynhhoc/ThuchanhToanCC/blob/main/Chuong2.ipynb\" target=\"_parent\"><img src=\"https://colab.research.google.com/assets/colab-badge.svg\" alt=\"Open In Colab\"/></a>"
      ]
    },
    {
      "cell_type": "markdown",
      "source": [
        "#eval"
      ],
      "metadata": {
        "id": "XpCNIEVfeYXk"
      }
    },
    {
      "cell_type": "code",
      "execution_count": 273,
      "metadata": {
        "id": "yxjwRszndx9Z"
      },
      "outputs": [],
      "source": [
        "chuoitinh=\"a*b + c\""
      ]
    },
    {
      "cell_type": "code",
      "source": [
        "a = 4\n",
        "b = 2\n",
        "c = 6"
      ],
      "metadata": {
        "id": "bk7I7m6PeCYb"
      },
      "execution_count": 274,
      "outputs": []
    },
    {
      "cell_type": "code",
      "source": [
        "eval(chuoitinh)"
      ],
      "metadata": {
        "id": "FuBO-pQieF99",
        "outputId": "2678deef-b08b-448d-a5e4-67c163cd0d41",
        "colab": {
          "base_uri": "https://localhost:8080/"
        }
      },
      "execution_count": 275,
      "outputs": [
        {
          "output_type": "execute_result",
          "data": {
            "text/plain": [
              "14"
            ]
          },
          "metadata": {},
          "execution_count": 275
        }
      ]
    },
    {
      "cell_type": "markdown",
      "source": [
        "# subs trong sympy"
      ],
      "metadata": {
        "id": "UfdKsUe5eQpg"
      }
    },
    {
      "cell_type": "code",
      "source": [
        "from sympy import Symbol\n",
        "x = Symbol('x')\n",
        "y = Symbol('y')"
      ],
      "metadata": {
        "id": "XjbWOXeDeU63"
      },
      "execution_count": 276,
      "outputs": []
    },
    {
      "cell_type": "code",
      "source": [
        "bieuthuc = x + y"
      ],
      "metadata": {
        "id": "RaV55U-cem0U"
      },
      "execution_count": 277,
      "outputs": []
    },
    {
      "cell_type": "code",
      "source": [
        "bieuthuc"
      ],
      "metadata": {
        "colab": {
          "base_uri": "https://localhost:8080/",
          "height": 39
        },
        "id": "HTYm99JK8kLp",
        "outputId": "ee47d044-d37d-4384-97ce-4f0c01545ae7"
      },
      "execution_count": 278,
      "outputs": [
        {
          "output_type": "execute_result",
          "data": {
            "text/latex": "$\\displaystyle x + y$",
            "text/plain": [
              "x + y"
            ]
          },
          "metadata": {},
          "execution_count": 278
        }
      ]
    },
    {
      "cell_type": "code",
      "source": [
        "emchuabiet = {'a':2, 'b':3}"
      ],
      "metadata": {
        "id": "8WVwTffNtAz7"
      },
      "execution_count": 279,
      "outputs": []
    },
    {
      "cell_type": "code",
      "source": [
        "embietchua = type(emchuabiet)"
      ],
      "metadata": {
        "id": "Qb9mNaV9tGfc"
      },
      "execution_count": 280,
      "outputs": []
    },
    {
      "cell_type": "code",
      "source": [
        "embietchua"
      ],
      "metadata": {
        "colab": {
          "base_uri": "https://localhost:8080/"
        },
        "id": "Bpbzwsu9ta1N",
        "outputId": "9f344942-30d6-4371-ff04-1df9a62c503e"
      },
      "execution_count": 281,
      "outputs": [
        {
          "output_type": "execute_result",
          "data": {
            "text/plain": [
              "dict"
            ]
          },
          "metadata": {},
          "execution_count": 281
        }
      ]
    },
    {
      "cell_type": "code",
      "source": [
        "type(4.5)"
      ],
      "metadata": {
        "colab": {
          "base_uri": "https://localhost:8080/"
        },
        "id": "woJFCz-7tN_x",
        "outputId": "8c70b224-569b-4660-c028-5ae387ee8ec8"
      },
      "execution_count": 282,
      "outputs": [
        {
          "output_type": "execute_result",
          "data": {
            "text/plain": [
              "float"
            ]
          },
          "metadata": {},
          "execution_count": 282
        }
      ]
    },
    {
      "cell_type": "code",
      "source": [
        "giatri = bieuthuc.subs({x:10, y:5})"
      ],
      "metadata": {
        "id": "UQHg_reRe6RF"
      },
      "execution_count": 283,
      "outputs": []
    },
    {
      "cell_type": "code",
      "source": [
        "giatri"
      ],
      "metadata": {
        "colab": {
          "base_uri": "https://localhost:8080/",
          "height": 38
        },
        "id": "LzhDrUj59aj8",
        "outputId": "f7c75b7e-8c5e-4602-bb72-2b77de311d06"
      },
      "execution_count": 284,
      "outputs": [
        {
          "output_type": "execute_result",
          "data": {
            "text/latex": "$\\displaystyle 15$",
            "text/plain": [
              "15"
            ]
          },
          "metadata": {},
          "execution_count": 284
        }
      ]
    },
    {
      "cell_type": "code",
      "source": [
        "type(giatri)"
      ],
      "metadata": {
        "colab": {
          "base_uri": "https://localhost:8080/"
        },
        "id": "2qeTALvb96gy",
        "outputId": "f399b4fa-b63a-4f46-b83f-0c58e5652caf"
      },
      "execution_count": 285,
      "outputs": [
        {
          "output_type": "execute_result",
          "data": {
            "text/plain": [
              "sympy.core.numbers.Integer"
            ]
          },
          "metadata": {},
          "execution_count": 285
        }
      ]
    },
    {
      "cell_type": "code",
      "source": [
        "import numpy as np\n",
        "x = np.round(float(giatri),2)"
      ],
      "metadata": {
        "id": "a4cfvzV29FcF"
      },
      "execution_count": 286,
      "outputs": []
    },
    {
      "cell_type": "code",
      "source": [
        "print(x)"
      ],
      "metadata": {
        "colab": {
          "base_uri": "https://localhost:8080/"
        },
        "id": "cbxk-5339-QX",
        "outputId": "f00bda57-088a-4203-a973-d5d08e639fc1"
      },
      "execution_count": 287,
      "outputs": [
        {
          "output_type": "stream",
          "name": "stdout",
          "text": [
            "15.0\n"
          ]
        }
      ]
    },
    {
      "cell_type": "code",
      "source": [
        "u = Symbol('u')\n",
        "v = Symbol('v')"
      ],
      "metadata": {
        "id": "BaWveB1vfL0o"
      },
      "execution_count": 288,
      "outputs": []
    },
    {
      "cell_type": "code",
      "source": [
        "ketqua = bieuthuc.subs({x:u, y:v})"
      ],
      "metadata": {
        "id": "UYpSPmhwfAI9"
      },
      "execution_count": 289,
      "outputs": []
    },
    {
      "cell_type": "code",
      "source": [
        "ketqua"
      ],
      "metadata": {
        "colab": {
          "base_uri": "https://localhost:8080/",
          "height": 39
        },
        "id": "h2RNcNgEt83J",
        "outputId": "06f1fd55-255e-4507-e9a7-d69891c11e19"
      },
      "execution_count": 290,
      "outputs": [
        {
          "output_type": "execute_result",
          "data": {
            "text/latex": "$\\displaystyle v + x$",
            "text/plain": [
              "v + x"
            ]
          },
          "metadata": {},
          "execution_count": 290
        }
      ]
    },
    {
      "cell_type": "code",
      "source": [
        "thaythe = bieuthuc.subs({x:2*u*u, y:u})"
      ],
      "metadata": {
        "id": "6c7QXx4bfYLa"
      },
      "execution_count": 291,
      "outputs": []
    },
    {
      "cell_type": "code",
      "source": [
        "chuoi = \"thuc day di, den gio hoc roi, dung ngu nua, ahihi\""
      ],
      "metadata": {
        "id": "33058ruXuXbt"
      },
      "execution_count": 292,
      "outputs": []
    },
    {
      "cell_type": "code",
      "source": [
        "type(chuoi)"
      ],
      "metadata": {
        "colab": {
          "base_uri": "https://localhost:8080/"
        },
        "id": "mAC2B1tOucJZ",
        "outputId": "9a2801cd-1410-455c-9718-727e37943eb9"
      },
      "execution_count": 293,
      "outputs": [
        {
          "output_type": "execute_result",
          "data": {
            "text/plain": [
              "str"
            ]
          },
          "metadata": {},
          "execution_count": 293
        }
      ]
    },
    {
      "cell_type": "code",
      "source": [
        "thaythe"
      ],
      "metadata": {
        "id": "Xw9v4lUifhY1",
        "outputId": "24085cac-6afa-42ec-a061-225ec2bc98db",
        "colab": {
          "base_uri": "https://localhost:8080/",
          "height": 39
        }
      },
      "execution_count": 294,
      "outputs": [
        {
          "output_type": "execute_result",
          "data": {
            "text/latex": "$\\displaystyle u + x$",
            "text/plain": [
              "u + x"
            ]
          },
          "metadata": {},
          "execution_count": 294
        }
      ]
    },
    {
      "cell_type": "code",
      "source": [
        "thaythe.factor()"
      ],
      "metadata": {
        "id": "6fT6QdyMfiHs",
        "outputId": "57fc9626-a720-40ab-8d03-acffb5dced62",
        "colab": {
          "base_uri": "https://localhost:8080/",
          "height": 39
        }
      },
      "execution_count": 295,
      "outputs": [
        {
          "output_type": "execute_result",
          "data": {
            "text/latex": "$\\displaystyle u + x$",
            "text/plain": [
              "u + x"
            ]
          },
          "metadata": {},
          "execution_count": 295
        }
      ]
    },
    {
      "cell_type": "code",
      "source": [
        "thaythe.simplify()"
      ],
      "metadata": {
        "id": "dCeWSavDf4PE",
        "outputId": "ad29775b-1799-4bb9-f06a-013453faad5d",
        "colab": {
          "base_uri": "https://localhost:8080/",
          "height": 39
        }
      },
      "execution_count": 296,
      "outputs": [
        {
          "output_type": "execute_result",
          "data": {
            "text/latex": "$\\displaystyle u + x$",
            "text/plain": [
              "u + x"
            ]
          },
          "metadata": {},
          "execution_count": 296
        }
      ]
    },
    {
      "cell_type": "code",
      "source": [
        "from sympy import sin, cos, Symbol\n",
        "a = Symbol('a')\n",
        "bieuthucday = bieuthuc.subs({x:a*sin(u), y:a*cos(u)})"
      ],
      "metadata": {
        "id": "fSu4U9e2f-DD"
      },
      "execution_count": 297,
      "outputs": []
    },
    {
      "cell_type": "code",
      "source": [
        "bieuthucday"
      ],
      "metadata": {
        "colab": {
          "base_uri": "https://localhost:8080/",
          "height": 39
        },
        "id": "NFrUQWvZ_QmO",
        "outputId": "efd3d3df-b70c-4de7-aa6d-c0dabe81db53"
      },
      "execution_count": 298,
      "outputs": [
        {
          "output_type": "execute_result",
          "data": {
            "text/latex": "$\\displaystyle a \\cos{\\left(u \\right)} + x$",
            "text/plain": [
              "a*cos(u) + x"
            ]
          },
          "metadata": {},
          "execution_count": 298
        }
      ]
    },
    {
      "cell_type": "code",
      "source": [
        "bieuthucday.factor()"
      ],
      "metadata": {
        "id": "8k5ttCgkgNTt",
        "outputId": "bc7668ea-3a6b-44d7-bbeb-899622887949",
        "colab": {
          "base_uri": "https://localhost:8080/",
          "height": 39
        }
      },
      "execution_count": 299,
      "outputs": [
        {
          "output_type": "execute_result",
          "data": {
            "text/latex": "$\\displaystyle a \\cos{\\left(u \\right)} + x$",
            "text/plain": [
              "a*cos(u) + x"
            ]
          },
          "metadata": {},
          "execution_count": 299
        }
      ]
    },
    {
      "cell_type": "code",
      "source": [
        "bieuthucday.simplify()"
      ],
      "metadata": {
        "id": "EgbRRKDXghWX",
        "outputId": "904857ab-e0d6-4ba3-ae43-fd56bb0de5b1",
        "colab": {
          "base_uri": "https://localhost:8080/",
          "height": 39
        }
      },
      "execution_count": 300,
      "outputs": [
        {
          "output_type": "execute_result",
          "data": {
            "text/latex": "$\\displaystyle a \\cos{\\left(u \\right)} + x$",
            "text/plain": [
              "a*cos(u) + x"
            ]
          },
          "metadata": {},
          "execution_count": 300
        }
      ]
    },
    {
      "cell_type": "code",
      "source": [
        "bieuthucsincos = bieuthuc.subs({x:sin(a)*sin(u), y:cos(a)*cos(u)})"
      ],
      "metadata": {
        "id": "groALq-C_0mN"
      },
      "execution_count": 301,
      "outputs": []
    },
    {
      "cell_type": "code",
      "source": [
        "bieuthucsincos"
      ],
      "metadata": {
        "colab": {
          "base_uri": "https://localhost:8080/",
          "height": 39
        },
        "id": "mZBOynb6_6W-",
        "outputId": "70a3b906-1f2d-4a9c-e6c6-2891dc1349b7"
      },
      "execution_count": 302,
      "outputs": [
        {
          "output_type": "execute_result",
          "data": {
            "text/latex": "$\\displaystyle x + \\cos{\\left(a \\right)} \\cos{\\left(u \\right)}$",
            "text/plain": [
              "x + cos(a)*cos(u)"
            ]
          },
          "metadata": {},
          "execution_count": 302
        }
      ]
    },
    {
      "cell_type": "code",
      "source": [
        "bieuthucsincos.simplify()"
      ],
      "metadata": {
        "colab": {
          "base_uri": "https://localhost:8080/",
          "height": 39
        },
        "id": "n2Tq_8_wAH4D",
        "outputId": "93c9e911-36f0-4f96-def3-0f5ea05dde5c"
      },
      "execution_count": 303,
      "outputs": [
        {
          "output_type": "execute_result",
          "data": {
            "text/latex": "$\\displaystyle x + \\cos{\\left(a \\right)} \\cos{\\left(u \\right)}$",
            "text/plain": [
              "x + cos(a)*cos(u)"
            ]
          },
          "metadata": {},
          "execution_count": 303
        }
      ]
    },
    {
      "cell_type": "markdown",
      "source": [
        "#matplotlib"
      ],
      "metadata": {
        "id": "RdS8aZeYhVnt"
      }
    },
    {
      "cell_type": "code",
      "source": [
        "x_numbers = [1,6,8,9]\n",
        "y_numbers = [2,5,9,4]"
      ],
      "metadata": {
        "id": "hoS77KQLhW3Y"
      },
      "execution_count": 351,
      "outputs": []
    },
    {
      "cell_type": "code",
      "source": [
        "from pylab import plot"
      ],
      "metadata": {
        "id": "7BpobrNAhrV4"
      },
      "execution_count": 345,
      "outputs": []
    },
    {
      "cell_type": "code",
      "source": [
        "len(x_numbers)"
      ],
      "metadata": {
        "id": "Uf7E0Vkqyuc5",
        "outputId": "687d714f-60c5-410b-9c02-cafc18a98db3",
        "colab": {
          "base_uri": "https://localhost:8080/"
        }
      },
      "execution_count": 349,
      "outputs": [
        {
          "output_type": "execute_result",
          "data": {
            "text/plain": [
              "4"
            ]
          },
          "metadata": {},
          "execution_count": 349
        }
      ]
    },
    {
      "cell_type": "code",
      "source": [
        "len(y_numbers)"
      ],
      "metadata": {
        "id": "96IUVFBjy_cJ",
        "outputId": "d05a5f15-8fb7-498d-e76c-bbc074d4e79f",
        "colab": {
          "base_uri": "https://localhost:8080/"
        }
      },
      "execution_count": 350,
      "outputs": [
        {
          "output_type": "execute_result",
          "data": {
            "text/plain": [
              "3"
            ]
          },
          "metadata": {},
          "execution_count": 350
        }
      ]
    },
    {
      "cell_type": "code",
      "source": [
        "plot(x_numbers, y_numbers)"
      ],
      "metadata": {
        "id": "h9v9qVbeh066",
        "outputId": "b5292d32-fbf9-43cd-c186-9917d2f8a2b0",
        "colab": {
          "base_uri": "https://localhost:8080/",
          "height": 282
        }
      },
      "execution_count": 352,
      "outputs": [
        {
          "output_type": "execute_result",
          "data": {
            "text/plain": [
              "[<matplotlib.lines.Line2D at 0x7f9a787d4390>]"
            ]
          },
          "metadata": {},
          "execution_count": 352
        },
        {
          "output_type": "display_data",
          "data": {
            "image/png": "[encoded data removed]",
            "text/plain": [
              "<Figure size 432x288 with 1 Axes>"
            ]
          },
          "metadata": {
            "needs_background": "light"
          }
        }
      ]
    },
    {
      "cell_type": "code",
      "source": [
        "plot(x_numbers, y_numbers, marker='o')"
      ],
      "metadata": {
        "id": "gCgLVhGXh2LX",
        "outputId": "037cdb30-0a4c-4191-8fb7-0b453fc77e8a",
        "colab": {
          "base_uri": "https://localhost:8080/",
          "height": 282
        }
      },
      "execution_count": 353,
      "outputs": [
        {
          "output_type": "execute_result",
          "data": {
            "text/plain": [
              "[<matplotlib.lines.Line2D at 0x7f9a787692d0>]"
            ]
          },
          "metadata": {},
          "execution_count": 353
        },
        {
          "output_type": "display_data",
          "data": {
            "image/png": "[encoded data removed]",
            "text/plain": [
              "<Figure size 432x288 with 1 Axes>"
            ]
          },
          "metadata": {
            "needs_background": "light"
          }
        }
      ]
    },
    {
      "cell_type": "code",
      "source": [
        "plot(x_numbers, y_numbers, marker='v', color='red', linewidth=5)"
      ],
      "metadata": {
        "id": "JKcPZHG2h_aM",
        "outputId": "f312e58a-115e-4fdb-dcc4-33d8f5937130",
        "colab": {
          "base_uri": "https://localhost:8080/",
          "height": 282
        }
      },
      "execution_count": 359,
      "outputs": [
        {
          "output_type": "execute_result",
          "data": {
            "text/plain": [
              "[<matplotlib.lines.Line2D at 0x7f9a81c4fd50>]"
            ]
          },
          "metadata": {},
          "execution_count": 359
        },
        {
          "output_type": "display_data",
          "data": {
            "image/png": "[encoded data removed]",
            "text/plain": [
              "<Figure size 432x288 with 1 Axes>"
            ]
          },
          "metadata": {
            "needs_background": "light"
          }
        }
      ]
    },
    {
      "cell_type": "code",
      "source": [
        "n = 5000\n",
        "X = [2*k/n for k in range(0, n+1)] "
      ],
      "metadata": {
        "id": "w-1CMtsG0XcV"
      },
      "execution_count": 379,
      "outputs": []
    },
    {
      "cell_type": "code",
      "source": [
        "len(X)"
      ],
      "metadata": {
        "id": "ibSlFCvO0wkH",
        "outputId": "84a02fc8-63cf-441c-aba4-634b10c6bf03",
        "colab": {
          "base_uri": "https://localhost:8080/"
        }
      },
      "execution_count": 370,
      "outputs": [
        {
          "output_type": "execute_result",
          "data": {
            "text/plain": [
              "1001"
            ]
          },
          "metadata": {},
          "execution_count": 370
        }
      ]
    },
    {
      "cell_type": "code",
      "source": [
        "from sympy import Symbol\n",
        "x = Symbol('x')\n",
        "f = x*x + 2*x + 1"
      ],
      "metadata": {
        "id": "kuKsbnT20bSs"
      },
      "execution_count": 362,
      "outputs": []
    },
    {
      "cell_type": "code",
      "source": [
        "f"
      ],
      "metadata": {
        "id": "AzLnAjyH0nva",
        "outputId": "537e3a9f-ffcf-4fee-ec28-c7eb84b58862",
        "colab": {
          "base_uri": "https://localhost:8080/",
          "height": 39
        }
      },
      "execution_count": 363,
      "outputs": [
        {
          "output_type": "execute_result",
          "data": {
            "text/latex": "$\\displaystyle x^{2} + 2 x + 1$",
            "text/plain": [
              "x**2 + 2*x + 1"
            ]
          },
          "metadata": {},
          "execution_count": 363
        }
      ]
    },
    {
      "cell_type": "code",
      "source": [
        "y = []\n",
        "for item in X:\n",
        "  yitem = f.subs({x: item})\n",
        "  y.append(yitem)"
      ],
      "metadata": {
        "id": "M058ngZO006c"
      },
      "execution_count": 380,
      "outputs": []
    },
    {
      "cell_type": "code",
      "source": [
        "len(y)"
      ],
      "metadata": {
        "id": "szFxaw1o1728",
        "outputId": "ae3eebb3-923e-4365-b2f7-ee890e3466ac",
        "colab": {
          "base_uri": "https://localhost:8080/"
        }
      },
      "execution_count": 375,
      "outputs": [
        {
          "output_type": "execute_result",
          "data": {
            "text/plain": [
              "1001"
            ]
          },
          "metadata": {},
          "execution_count": 375
        }
      ]
    },
    {
      "cell_type": "code",
      "source": [
        "#plot(X, y, marker='v', color='red', linewidth=1)"
      ],
      "metadata": {
        "id": "aHK85rns1SWN",
        "outputId": "12b680b0-76e6-41c9-d2dd-c03c79897e46",
        "colab": {
          "base_uri": "https://localhost:8080/",
          "height": 282
        }
      },
      "execution_count": 368,
      "outputs": [
        {
          "output_type": "execute_result",
          "data": {
            "text/plain": [
              "[<matplotlib.lines.Line2D at 0x7f9a78bef3d0>]"
            ]
          },
          "metadata": {},
          "execution_count": 368
        },
        {
          "output_type": "display_data",
          "data": {
            "image/png": "[encoded data removed]",
            "text/plain": [
              "<Figure size 432x288 with 1 Axes>"
            ]
          },
          "metadata": {
            "needs_background": "light"
          }
        }
      ]
    },
    {
      "cell_type": "code",
      "source": [
        "#plot(X, y, color='red')"
      ],
      "metadata": {
        "id": "JTXtv3rr2AJH",
        "outputId": "acf515f9-b3d2-4afe-b4d9-184d8f22eec2",
        "colab": {
          "base_uri": "https://localhost:8080/",
          "height": 282
        }
      },
      "execution_count": 378,
      "outputs": [
        {
          "output_type": "execute_result",
          "data": {
            "text/plain": [
              "[<matplotlib.lines.Line2D at 0x7f9a782704d0>]"
            ]
          },
          "metadata": {},
          "execution_count": 378
        },
        {
          "output_type": "display_data",
          "data": {
            "image/png": "[encoded data removed]",
            "text/plain": [
              "<Figure size 432x288 with 1 Axes>"
            ]
          },
          "metadata": {
            "needs_background": "light"
          }
        }
      ]
    },
    {
      "cell_type": "code",
      "source": [
        "plot(X, y, color='red')"
      ],
      "metadata": {
        "id": "ZlH1ZJJS2RWn",
        "outputId": "dae559cd-59dc-4a61-c445-95a8173c24aa",
        "colab": {
          "base_uri": "https://localhost:8080/",
          "height": 282
        }
      },
      "execution_count": 381,
      "outputs": [
        {
          "output_type": "execute_result",
          "data": {
            "text/plain": [
              "[<matplotlib.lines.Line2D at 0x7f9a78669d90>]"
            ]
          },
          "metadata": {},
          "execution_count": 381
        },
        {
          "output_type": "display_data",
          "data": {
            "image/png": "[encoded data removed]",
            "text/plain": [
              "<Figure size 432x288 with 1 Axes>"
            ]
          },
          "metadata": {
            "needs_background": "light"
          }
        }
      ]
    },
    {
      "cell_type": "code",
      "source": [
        "hcm_rain = [13.8, 4.1, 10.5, 50.4, 218.4, 311.7, 293.7, 269.8, 327.1, 266.7, 116.5, 48.3]\n",
        "months = range(1,13)"
      ],
      "metadata": {
        "id": "4sMTwbHZiJUF"
      },
      "execution_count": 309,
      "outputs": []
    },
    {
      "cell_type": "code",
      "source": [
        "plot(months, hcm_rain, marker = \"o\", color='red')"
      ],
      "metadata": {
        "id": "DaIbz8kZiOr6",
        "outputId": "9fbe4705-6c68-46fe-be12-0ccc47040cc8",
        "colab": {
          "base_uri": "https://localhost:8080/",
          "height": 282
        }
      },
      "execution_count": 310,
      "outputs": [
        {
          "output_type": "execute_result",
          "data": {
            "text/plain": [
              "[<matplotlib.lines.Line2D at 0x7f9a78a1af10>]"
            ]
          },
          "metadata": {},
          "execution_count": 310
        },
        {
          "output_type": "display_data",
          "data": {
            "image/png": "[encoded data removed]",
            "text/plain": [
              "<Figure size 432x288 with 1 Axes>"
            ]
          },
          "metadata": {
            "needs_background": "light"
          }
        }
      ]
    },
    {
      "cell_type": "markdown",
      "source": [
        "#Tinh dao ham: Derivative"
      ],
      "metadata": {
        "id": "FxtnW_KzieI6"
      }
    },
    {
      "cell_type": "code",
      "source": [
        "from sympy import Symbol, Derivative"
      ],
      "metadata": {
        "id": "CftO_uJpihnS"
      },
      "execution_count": 311,
      "outputs": []
    },
    {
      "cell_type": "code",
      "source": [
        "t = Symbol('t')\n",
        "st = 5*t**2 + 2*t + 8"
      ],
      "metadata": {
        "id": "NaF1P8o0ik_B"
      },
      "execution_count": 312,
      "outputs": []
    },
    {
      "cell_type": "code",
      "source": [
        "st"
      ],
      "metadata": {
        "id": "Xac13esEiout",
        "outputId": "3d5805e7-7786-488e-80c7-3c9c69352c7b",
        "colab": {
          "base_uri": "https://localhost:8080/",
          "height": 39
        }
      },
      "execution_count": 313,
      "outputs": [
        {
          "output_type": "execute_result",
          "data": {
            "text/latex": "$\\displaystyle 5 t^{2} + 2 t + 8$",
            "text/plain": [
              "5*t**2 + 2*t + 8"
            ]
          },
          "metadata": {},
          "execution_count": 313
        }
      ]
    },
    {
      "cell_type": "code",
      "source": [
        "daohamST = Derivative(st, t)"
      ],
      "metadata": {
        "id": "zK37e2fuipvU"
      },
      "execution_count": 314,
      "outputs": []
    },
    {
      "cell_type": "code",
      "source": [
        "daohamST"
      ],
      "metadata": {
        "id": "vVc3hqNeiuTQ",
        "outputId": "ae488cd9-8bfb-4a4c-a686-39f3d6fff2c4",
        "colab": {
          "base_uri": "https://localhost:8080/",
          "height": 52
        }
      },
      "execution_count": 315,
      "outputs": [
        {
          "output_type": "execute_result",
          "data": {
            "text/latex": "$\\displaystyle \\frac{d}{d t} \\left(5 t^{2} + 2 t + 8\\right)$",
            "text/plain": [
              "Derivative(5*t**2 + 2*t + 8, t)"
            ]
          },
          "metadata": {},
          "execution_count": 315
        }
      ]
    },
    {
      "cell_type": "code",
      "source": [
        "st1 = daohamST.doit()"
      ],
      "metadata": {
        "id": "DXRDAD0Ui_6i"
      },
      "execution_count": 316,
      "outputs": []
    },
    {
      "cell_type": "code",
      "source": [
        "st1"
      ],
      "metadata": {
        "colab": {
          "base_uri": "https://localhost:8080/",
          "height": 39
        },
        "id": "_VTJ9OtWjKOk",
        "outputId": "3d2a4437-42fa-4779-fdb0-ab1fde868a13"
      },
      "execution_count": 317,
      "outputs": [
        {
          "output_type": "execute_result",
          "data": {
            "text/latex": "$\\displaystyle 10 t + 2$",
            "text/plain": [
              "10*t + 2"
            ]
          },
          "metadata": {},
          "execution_count": 317
        }
      ]
    },
    {
      "cell_type": "code",
      "source": [
        "st1.subs({t:3})"
      ],
      "metadata": {
        "colab": {
          "base_uri": "https://localhost:8080/",
          "height": 38
        },
        "id": "vsy9kp6rjFgR",
        "outputId": "24cc6b39-7d20-46dc-c0f7-dabea3bc22d9"
      },
      "execution_count": 318,
      "outputs": [
        {
          "output_type": "execute_result",
          "data": {
            "text/latex": "$\\displaystyle 32$",
            "text/plain": [
              "32"
            ]
          },
          "metadata": {},
          "execution_count": 318
        }
      ]
    },
    {
      "cell_type": "markdown",
      "source": [
        "#Dao ham ham hop"
      ],
      "metadata": {
        "id": "q2qAlmaHjV1h"
      }
    },
    {
      "cell_type": "code",
      "source": [
        "from sympy import Derivative, Symbol"
      ],
      "metadata": {
        "id": "4R6peduMjXWu"
      },
      "execution_count": 319,
      "outputs": []
    },
    {
      "cell_type": "code",
      "source": [
        "x = Symbol('x')"
      ],
      "metadata": {
        "id": "AF1I-qBJjaLR"
      },
      "execution_count": 320,
      "outputs": []
    },
    {
      "cell_type": "code",
      "source": [
        " f = (x**3+x**2+x)*(x**2+x)"
      ],
      "metadata": {
        "id": "RNY5ORoijdeV"
      },
      "execution_count": 321,
      "outputs": []
    },
    {
      "cell_type": "code",
      "source": [
        "f"
      ],
      "metadata": {
        "colab": {
          "base_uri": "https://localhost:8080/",
          "height": 39
        },
        "id": "SU4tEvYBjeld",
        "outputId": "51e8353a-fae0-4692-ca04-5728ae6fbae3"
      },
      "execution_count": 322,
      "outputs": [
        {
          "output_type": "execute_result",
          "data": {
            "text/latex": "$\\displaystyle \\left(x^{2} + x\\right) \\left(x^{3} + x^{2} + x\\right)$",
            "text/plain": [
              "(x**2 + x)*(x**3 + x**2 + x)"
            ]
          },
          "metadata": {},
          "execution_count": 322
        }
      ]
    },
    {
      "cell_type": "code",
      "source": [
        "Derivative(f, x).doit()"
      ],
      "metadata": {
        "colab": {
          "base_uri": "https://localhost:8080/",
          "height": 39
        },
        "id": "VbBdWdm_jfat",
        "outputId": "ffa4a82a-37d5-4e84-bf92-f1e8fdf07e83"
      },
      "execution_count": 323,
      "outputs": [
        {
          "output_type": "execute_result",
          "data": {
            "text/latex": "$\\displaystyle \\left(2 x + 1\\right) \\left(x^{3} + x^{2} + x\\right) + \\left(x^{2} + x\\right) \\left(3 x^{2} + 2 x + 1\\right)$",
            "text/plain": [
              "(2*x + 1)*(x**3 + x**2 + x) + (x**2 + x)*(3*x**2 + 2*x + 1)"
            ]
          },
          "metadata": {},
          "execution_count": 323
        }
      ]
    },
    {
      "cell_type": "markdown",
      "source": [
        "#Ung dung tim cuc dai va cuc tieu"
      ],
      "metadata": {
        "id": "JXvg47ovkDWK"
      }
    },
    {
      "cell_type": "code",
      "source": [
        "from sympy import Symbol, solve, Derivative"
      ],
      "metadata": {
        "id": "YcYWdhqRkGX8"
      },
      "execution_count": 324,
      "outputs": []
    },
    {
      "cell_type": "code",
      "source": [
        "x = Symbol('x') \n",
        "f = x**5-30*x**3+50*x"
      ],
      "metadata": {
        "id": "L-MCNjXYkHdb"
      },
      "execution_count": 325,
      "outputs": []
    },
    {
      "cell_type": "code",
      "source": [
        "f"
      ],
      "metadata": {
        "colab": {
          "base_uri": "https://localhost:8080/",
          "height": 39
        },
        "id": "CfSBnef7kOSi",
        "outputId": "e9b0acab-3b83-4011-842e-fdfe1e97271d"
      },
      "execution_count": 326,
      "outputs": [
        {
          "output_type": "execute_result",
          "data": {
            "text/latex": "$\\displaystyle x^{5} - 30 x^{3} + 50 x$",
            "text/plain": [
              "x**5 - 30*x**3 + 50*x"
            ]
          },
          "metadata": {},
          "execution_count": 326
        }
      ]
    },
    {
      "cell_type": "code",
      "source": [
        "d1 = Derivative(f, x).doit()"
      ],
      "metadata": {
        "id": "aiatqJVCkRIC"
      },
      "execution_count": 327,
      "outputs": []
    },
    {
      "cell_type": "code",
      "source": [
        "d1"
      ],
      "metadata": {
        "colab": {
          "base_uri": "https://localhost:8080/",
          "height": 39
        },
        "id": "FUB15pI0kSRP",
        "outputId": "e46fcd06-6460-4183-adb3-2ddc8f0d3187"
      },
      "execution_count": 328,
      "outputs": [
        {
          "output_type": "execute_result",
          "data": {
            "text/latex": "$\\displaystyle 5 x^{4} - 90 x^{2} + 50$",
            "text/plain": [
              "5*x**4 - 90*x**2 + 50"
            ]
          },
          "metadata": {},
          "execution_count": 328
        }
      ]
    },
    {
      "cell_type": "code",
      "source": [
        "cuctri = solve(d1)"
      ],
      "metadata": {
        "id": "6qik_Zs-kWfR"
      },
      "execution_count": 329,
      "outputs": []
    },
    {
      "cell_type": "code",
      "source": [
        "cuctri[1]"
      ],
      "metadata": {
        "colab": {
          "base_uri": "https://localhost:8080/",
          "height": 48
        },
        "id": "ymIiHa65kZZW",
        "outputId": "c4b70021-b07e-4b27-be8a-3cfa1a982adf"
      },
      "execution_count": 330,
      "outputs": [
        {
          "output_type": "execute_result",
          "data": {
            "text/latex": "$\\displaystyle \\sqrt{9 - \\sqrt{71}}$",
            "text/plain": [
              "sqrt(9 - sqrt(71))"
            ]
          },
          "metadata": {},
          "execution_count": 330
        }
      ]
    },
    {
      "cell_type": "code",
      "source": [
        "B = cuctri[0]\n",
        "C = cuctri[1]\n",
        "A = cuctri[2]\n",
        "D = cuctri[3]"
      ],
      "metadata": {
        "id": "v2CzAju0kc7q"
      },
      "execution_count": 331,
      "outputs": []
    },
    {
      "cell_type": "markdown",
      "source": [
        "# Dao ham cap 2"
      ],
      "metadata": {
        "id": "jfW9L5MplUoe"
      }
    },
    {
      "cell_type": "code",
      "source": [
        "d2 = Derivative(d1, x,2).doit()  #Dao ham cap 2 cua d1"
      ],
      "metadata": {
        "id": "p0iwwD63lRnj"
      },
      "execution_count": 332,
      "outputs": []
    },
    {
      "cell_type": "code",
      "source": [
        "d2"
      ],
      "metadata": {
        "colab": {
          "base_uri": "https://localhost:8080/",
          "height": 39
        },
        "id": "vq1rHaeelnG0",
        "outputId": "9d4b7024-3c63-41c2-898d-f231d2b2876d"
      },
      "execution_count": 333,
      "outputs": [
        {
          "output_type": "execute_result",
          "data": {
            "text/latex": "$\\displaystyle 60 \\left(x^{2} - 3\\right)$",
            "text/plain": [
              "60*(x**2 - 3)"
            ]
          },
          "metadata": {},
          "execution_count": 333
        }
      ]
    },
    {
      "cell_type": "code",
      "source": [
        "d2"
      ],
      "metadata": {
        "colab": {
          "base_uri": "https://localhost:8080/",
          "height": 39
        },
        "id": "nwQppaKPQG1f",
        "outputId": "06de0e48-05e7-423f-c9a1-0533f77ce218"
      },
      "execution_count": 334,
      "outputs": [
        {
          "output_type": "execute_result",
          "data": {
            "text/latex": "$\\displaystyle 60 \\left(x^{2} - 3\\right)$",
            "text/plain": [
              "60*(x**2 - 3)"
            ]
          },
          "metadata": {},
          "execution_count": 334
        }
      ]
    },
    {
      "cell_type": "code",
      "source": [
        " d2.subs({x:B}).evalf()"
      ],
      "metadata": {
        "colab": {
          "base_uri": "https://localhost:8080/",
          "height": 38
        },
        "id": "Z86lZ0H8lohI",
        "outputId": "934e70b0-23c6-4843-cdc0-586cfa5726f2"
      },
      "execution_count": 335,
      "outputs": [
        {
          "output_type": "execute_result",
          "data": {
            "text/latex": "$\\displaystyle -145.568986390582$",
            "text/plain": [
              "-145.568986390582"
            ]
          },
          "metadata": {},
          "execution_count": 335
        }
      ]
    },
    {
      "cell_type": "markdown",
      "source": [
        "#Ve do thi ham so"
      ],
      "metadata": {
        "id": "v5iVY_JUq7ab"
      }
    },
    {
      "cell_type": "code",
      "source": [
        " import sympy"
      ],
      "metadata": {
        "id": "4tRhclVsq9XF"
      },
      "execution_count": 383,
      "outputs": []
    },
    {
      "cell_type": "code",
      "source": [
        "f"
      ],
      "metadata": {
        "colab": {
          "base_uri": "https://localhost:8080/",
          "height": 39
        },
        "id": "ljMu4_N4rD6G",
        "outputId": "28e92a1e-d952-4086-9a78-766b8dcf13aa"
      },
      "execution_count": 382,
      "outputs": [
        {
          "output_type": "execute_result",
          "data": {
            "text/latex": "$\\displaystyle x^{2} + 2 x + 1$",
            "text/plain": [
              "x**2 + 2*x + 1"
            ]
          },
          "metadata": {},
          "execution_count": 382
        }
      ]
    },
    {
      "cell_type": "code",
      "source": [
        " sympy.plot(f, (x, -10, 10))"
      ],
      "metadata": {
        "colab": {
          "base_uri": "https://localhost:8080/",
          "height": 314
        },
        "id": "LgrTdRaPrBP-",
        "outputId": "e4e5b60a-dd9d-4f67-964a-75ecddfd2453"
      },
      "execution_count": 384,
      "outputs": [
        {
          "output_type": "display_data",
          "data": {
            "image/png": "[encoded data removed]",
            "text/plain": [
              "<Figure size 432x288 with 1 Axes>"
            ]
          },
          "metadata": {
            "needs_background": "light"
          }
        },
        {
          "output_type": "execute_result",
          "data": {
            "text/plain": [
              "<sympy.plotting.plot.Plot at 0x7f9a7865a210>"
            ]
          },
          "metadata": {},
          "execution_count": 384
        }
      ]
    },
    {
      "cell_type": "code",
      "source": [
        "sympy.plot(f, (x, -1, 1))"
      ],
      "metadata": {
        "colab": {
          "base_uri": "https://localhost:8080/",
          "height": 314
        },
        "id": "ct9W7BOkC2-A",
        "outputId": "2b843a4e-c057-4346-eb47-ffeba72ff266"
      },
      "execution_count": 339,
      "outputs": [
        {
          "output_type": "display_data",
          "data": {
            "image/png": "[encoded data removed]",
            "text/plain": [
              "<Figure size 432x288 with 1 Axes>"
            ]
          },
          "metadata": {
            "needs_background": "light"
          }
        },
        {
          "output_type": "execute_result",
          "data": {
            "text/plain": [
              "<sympy.plotting.plot.Plot at 0x7f9a789f5e10>"
            ]
          },
          "metadata": {},
          "execution_count": 339
        }
      ]
    },
    {
      "cell_type": "code",
      "source": [
        "bieuthuc = x + y"
      ],
      "metadata": {
        "id": "L21lsi5pDh8N"
      },
      "execution_count": 340,
      "outputs": []
    },
    {
      "cell_type": "code",
      "source": [
        "from sympy import sin, cos, Symbol\n",
        "bieuthucsin = bieuthuc.subs({x:sin(u), y:cos(u)})"
      ],
      "metadata": {
        "id": "zy2Vo_lLDbuH"
      },
      "execution_count": 341,
      "outputs": []
    },
    {
      "cell_type": "code",
      "source": [
        "bieuthucsin"
      ],
      "metadata": {
        "colab": {
          "base_uri": "https://localhost:8080/",
          "height": 39
        },
        "id": "rjCPV4-hDfaV",
        "outputId": "ee5b1ab7-1f0f-43ba-b29b-fece7e95d4dc"
      },
      "execution_count": 342,
      "outputs": [
        {
          "output_type": "execute_result",
          "data": {
            "text/latex": "$\\displaystyle \\sin{\\left(u \\right)} + \\cos{\\left(u \\right)}$",
            "text/plain": [
              "sin(u) + cos(u)"
            ]
          },
          "metadata": {},
          "execution_count": 342
        }
      ]
    },
    {
      "cell_type": "code",
      "source": [
        "sympy.plot(bieuthucsin, (u, 0, 1/2))"
      ],
      "metadata": {
        "colab": {
          "base_uri": "https://localhost:8080/",
          "height": 314
        },
        "id": "wB5wsOuKDpWl",
        "outputId": "f5165aff-6102-46de-9567-9cb1d11451cf"
      },
      "execution_count": 343,
      "outputs": [
        {
          "output_type": "display_data",
          "data": {
            "image/png": "[encoded data removed]",
            "text/plain": [
              "<Figure size 432x288 with 1 Axes>"
            ]
          },
          "metadata": {
            "needs_background": "light"
          }
        },
        {
          "output_type": "execute_result",
          "data": {
            "text/plain": [
              "<sympy.plotting.plot.Plot at 0x7f9a7892c150>"
            ]
          },
          "metadata": {},
          "execution_count": 343
        }
      ]
    }
  ]
}